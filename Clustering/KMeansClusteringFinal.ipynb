{
 "cells": [
  {
   "cell_type": "code",
   "execution_count": 4,
   "metadata": {
    "collapsed": false
   },
   "outputs": [],
   "source": [
    "import numpy as np\n",
    "import pandas as pd\n",
    "import numpy as np\n",
    "import matplotlib.pyplot as plt\n",
    "from sklearn.cluster import KMeans\n",
    "import scipy\n",
    "from scipy.cluster.vq import kmeans,vq\n",
    "from scipy.spatial.distance import cdist\n",
    "import matplotlib.pyplot as plt\n",
    "\n",
    "from sklearn import cluster, datasets\n",
    "loanData = pd.read_csv(\"G:/Assignment2_Part2/cleaned_loandata_numeric.csv\", encoding = \"ISO-8859-1\", low_memory= False)\n",
    "x_loandata=loanData\n",
    "\n",
    "df1=pd.DataFrame(loanData,columns=['loan_amnt', 'term','inq_last_6mths', 'total_acc','dti','tot_cur_bal',\n",
    "                                         'verification_status_nmbr','risk_score','avg_fico_range','purpose_nmbr','addr_state'])\n",
    "\n",
    "df1['addr_state_factor'] = df1['addr_state'].astype('category');\n",
    "\n",
    "\n",
    "cat_columns = df1.select_dtypes(['category']).columns\n",
    "df1[cat_columns] = df1[cat_columns].apply(lambda x: x.cat.codes)\n",
    "del df1['addr_state']"
   ]
  },
  {
   "cell_type": "code",
   "execution_count": null,
   "metadata": {
    "collapsed": false
   },
   "outputs": [],
   "source": [
    "import numpy as np\n",
    "import pandas as pd\n",
    "import numpy as np\n",
    "import matplotlib.pyplot as plt\n",
    "from sklearn.cluster import KMeans\n",
    "import scipy\n",
    "from scipy.cluster.vq import kmeans,vq\n",
    "from scipy.spatial.distance import cdist\n",
    "import matplotlib.pyplot as plt\n",
    "\n",
    "### Defining different number of clusters and calculate wss for each of them\n",
    "K = range(1,15)\n",
    "KM = [kmeans(df1,k) for k in K]\n",
    "centroids = [cent for (cent,var) in KM]   # cluster centroids\n",
    "avgWithinSS = [var for (cent,var) in KM] # mean within-cluster sum of squares\n",
    "\n",
    "### Defining different number of clusters and calculate wss for each of them\n",
    "K = range(1,15)\n",
    "KM = [kmeans(df1,k) for k in K]\n",
    "centroids = [cent for (cent,var) in KM]   # cluster centroids\n",
    "avgWithinSS = [var for (cent,var) in KM] # mean within-cluster sum of squares\n",
    "\n",
    "kIdx = 3\n",
    "### Bend graph\n",
    "fig = plt.figure()\n",
    "ax = fig.add_subplot(111)\n",
    "ax.plot(K, avgWithinSS, 'b*-')\n",
    "ax.plot(K[kIdx], avgWithinSS[kIdx], marker='*', markersize=10, \n",
    "    markeredgewidth=2, markeredgecolor='b', markerfacecolor='None')\n",
    "plt.grid(True)\n",
    "plt.xlabel('K')\n",
    "plt.ylabel('WSS')\n",
    "plt.title('Bend for KMeans clustering')\n",
    "plt.show()"
   ]
  },
  {
   "cell_type": "code",
   "execution_count": null,
   "metadata": {
    "collapsed": false
   },
   "outputs": [],
   "source": [
    "import numpy as np\n",
    "import pandas as pd\n",
    "import numpy as np\n",
    "import matplotlib.pyplot as plt\n",
    "from sklearn.cluster import KMeans\n",
    "import scipy\n",
    "from scipy.cluster.vq import kmeans,vq\n",
    "from scipy.spatial.distance import cdist\n",
    "import matplotlib.pyplot as plt\n",
    "\n",
    "k_means=cluster.KMeans(n_clusters=4)\n",
    "\n",
    "X_tsne = k_means.fit(df1)\n",
    "centroids = k_means.cluster_centers_\n",
    "\n",
    "labels = k_means.labels_\n",
    "\n",
    "#print(centroids)\n",
    "print(labels)\n",
    "\n",
    "df1['labels'] = labels\n",
    "\n",
    "#df1.head()\n",
    "df1['int_rate'] = loanData['int_rate']\n",
    "df1['id'] = loanData['id']\n",
    "\n",
    "downloads_dir_loan = \"Data/New\"\n",
    "# Save df1 (Kmeans data set with labels) \n",
    "df1.to_csv(downloads_dir_loan + \"/kmeans_clustering.csv\"  , sep=',', index = True)"
   ]
  }
 ],
 "metadata": {
  "kernelspec": {
   "display_name": "Python 3",
   "language": "python",
   "name": "python3"
  },
  "language_info": {
   "codemirror_mode": {
    "name": "ipython",
    "version": 3
   },
   "file_extension": ".py",
   "mimetype": "text/x-python",
   "name": "python",
   "nbconvert_exporter": "python",
   "pygments_lexer": "ipython3",
   "version": "3.5.3"
  }
 },
 "nbformat": 4,
 "nbformat_minor": 2
}
