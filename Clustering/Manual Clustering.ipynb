{
 "cells": [
  {
   "cell_type": "code",
   "execution_count": 1,
   "metadata": {
    "collapsed": false
   },
   "outputs": [],
   "source": [
    "from sklearn import datasets\n",
    "from sklearn.feature_selection import RFE\n",
    "import matplotlib.pyplot as plt\n",
    "import pandas as pd\n",
    "import os\n",
    "import numpy as np\n",
    "\n",
    "loanFile = \"/home/sneha/Documents/ADS /ads_assignment_2/Data/Cleaned/cleaned_loandata_numeric.csv\"\n",
    "featuresFromLoanData = ['id','loan_amnt', 'dti', 'risk_score']\n",
    "loanData = pd.read_csv(loanFile, encoding = \"ISO-8859-1\", low_memory= False,usecols=featuresFromLoanData)\n",
    "#featuresFromLoanData = ['loan_amnt', 'risk_score', 'dti', 'addr_state', 'emp_length', 'loan_status']\n",
    "    "
   ]
  },
  {
   "cell_type": "code",
   "execution_count": 2,
   "metadata": {
    "collapsed": false
   },
   "outputs": [
    {
     "data": {
      "text/plain": [
       "array(['Fair', 'Good', 'Excellent', 'Weak'], dtype=object)"
      ]
     },
     "execution_count": 2,
     "metadata": {},
     "output_type": "execute_result"
    }
   ],
   "source": [
    "loanData['Credit_Score_Level'] = 'Level'\n",
    "loanData.loc[(loanData['risk_score'] >= 720), ['Credit_Score_Level']]= 'Excellent'\n",
    "loanData.loc[(loanData['risk_score'] >=680) & (loanData['risk_score']<720) , ['Credit_Score_Level']] = 'Good'\n",
    "loanData.loc[(loanData['risk_score'] >=620) & (loanData['risk_score']<680), ['Credit_Score_Level']] = 'Fair'\n",
    "loanData.loc[(loanData['risk_score'] >=580) & (loanData['risk_score']<620), ['Credit_Score_Level']] = 'Weak'\n",
    "loanData.loc[(loanData['risk_score'] >=350) & (loanData['risk_score']<580), ['Credit_Score_Level']] = 'Very Weak'\n",
    "loanData['Credit_Score_Level'].unique()"
   ]
  },
  {
   "cell_type": "code",
   "execution_count": 3,
   "metadata": {
    "collapsed": false
   },
   "outputs": [
    {
     "data": {
      "text/plain": [
       "69.489999999999995"
      ]
     },
     "execution_count": 3,
     "metadata": {},
     "output_type": "execute_result"
    }
   ],
   "source": [
    "max(loanData['dti'] )"
   ]
  },
  {
   "cell_type": "code",
   "execution_count": 4,
   "metadata": {
    "collapsed": false
   },
   "outputs": [
    {
     "data": {
      "text/plain": [
       "array(['Level'], dtype=object)"
      ]
     },
     "execution_count": 4,
     "metadata": {},
     "output_type": "execute_result"
    }
   ],
   "source": [
    "loanData['Dti_Level'] = 'Level'\n",
    "\n",
    "\n",
    "loanData['Dti_Level'].unique()\n"
   ]
  },
  {
   "cell_type": "code",
   "execution_count": null,
   "metadata": {
    "collapsed": false
   },
   "outputs": [],
   "source": []
  },
  {
   "cell_type": "code",
   "execution_count": 5,
   "metadata": {
    "collapsed": true
   },
   "outputs": [],
   "source": [
    "\n",
    "loanData.loc[(loanData['dti'] >= 30), ['Dti_Level']]= 'D'\n",
    "loanData.loc[(loanData['dti'] >=20) & (loanData['dti']<30), ['Dti_Level']] = 'C'\n",
    "loanData.loc[(loanData['dti'] >=10) & (loanData['dti']<20), ['Dti_Level']] = 'B'\n",
    "loanData.loc[(loanData['dti'] >=0) & (loanData['dti']<10), ['Dti_Level']] = 'A'\n",
    "loanData.loc[(loanData['dti'] <= 0), ['Dti_Level']]= 'Invalid'\n"
   ]
  },
  {
   "cell_type": "code",
   "execution_count": 10,
   "metadata": {
    "collapsed": false
   },
   "outputs": [],
   "source": [
    "loanData['Dti_Level'].unique()\n"
   ]
  },
  {
   "cell_type": "code",
   "execution_count": 11,
   "metadata": {
    "collapsed": false
   },
   "outputs": [
    {
     "data": {
      "text/plain": [
       "array(['Low', 'Average', 'High'], dtype=object)"
      ]
     },
     "execution_count": 11,
     "metadata": {},
     "output_type": "execute_result"
    }
   ],
   "source": [
    "#Loan Data Level\n",
    "loanData.loc[(loanData['loan_amnt'] <= 10000), ['Loan_amt_level']]= 'Low'\n",
    "loanData.loc[(loanData['loan_amnt'] >=10000) & (loanData['loan_amnt']<25000), ['Loan_amt_level']] = 'Average'\n",
    "loanData.loc[(loanData['loan_amnt'] >=25000) & (loanData['loan_amnt']<=40000), ['Loan_amt_level']] = 'High'\n",
    "\n",
    "loanData['Loan_amt_level'].unique()"
   ]
  },
  {
   "cell_type": "code",
   "execution_count": null,
   "metadata": {
    "collapsed": true
   },
   "outputs": [],
   "source": []
  },
  {
   "cell_type": "code",
   "execution_count": 6,
   "metadata": {
    "collapsed": true
   },
   "outputs": [],
   "source": [
    "#Manual Clusters with Credit_Score_Level(Good,Fair, Weak, Very Weak) and Dti_Level(A,B,C)\n",
    "loanData['Manual_Cluster'] = 999\n",
    "\n",
    "loanData.loc[(loanData['Credit_Score_Level']=='Excellent')&(loanData['Dti_Level']=='A'), ['Manual_Cluster']]=1\n",
    "loanData.loc[(loanData['Credit_Score_Level']=='Excellent')&(loanData['Dti_Level']=='B'), ['Manual_Cluster']]=2\n",
    "loanData.loc[(loanData['Credit_Score_Level']=='Excellent')&(loanData['Dti_Level']=='C'), ['Manual_Cluster']]=3\n",
    "\n",
    "\n",
    "\n",
    "loanData.loc[(loanData['Credit_Score_Level']=='Good')&(loanData['Dti_Level']=='A'), ['Manual_Cluster']]=1\n",
    "loanData.loc[(loanData['Credit_Score_Level']=='Good')&(loanData['Dti_Level']=='B'), ['Manual_Cluster']]=2\n",
    "loanData.loc[(loanData['Credit_Score_Level']=='Good')&(loanData['Dti_Level']=='C'), ['Manual_Cluster']]=3\n",
    "\n",
    "\n",
    "loanData.loc[(loanData['Credit_Score_Level']=='Fair')&(loanData['Dti_Level']=='A'), ['Manual_Cluster']]=4\n",
    "loanData.loc[(loanData['Credit_Score_Level']=='Fair')&(loanData['Dti_Level']=='B'), ['Manual_Cluster']]=5\n",
    "loanData.loc[(loanData['Credit_Score_Level']=='Fair')&(loanData['Dti_Level']=='C'), ['Manual_Cluster']]=6\n",
    "\n",
    "loanData.loc[(loanData['Credit_Score_Level']=='Weak')&(loanData['Dti_Level']=='A'), ['Manual_Cluster']]=7\n",
    "loanData.loc[(loanData['Credit_Score_Level']=='Weak')&(loanData['Dti_Level']=='B'), ['Manual_Cluster']]=8\n",
    "loanData.loc[(loanData['Credit_Score_Level']=='Weak')&(loanData['Dti_Level']=='C'), ['Manual_Cluster']]=9\n",
    "\n",
    "\n",
    "loanData.loc[(loanData['Credit_Score_Level']=='Very Weak')&(loanData['Dti_Level']=='A'), ['Manual_Cluster']]=10\n",
    "loanData.loc[(loanData['Credit_Score_Level']=='Very Weak')&(loanData['Dti_Level']=='B'), ['Manual_Cluster']]=11\n",
    "loanData.loc[(loanData['Credit_Score_Level']=='Very Weak')&(loanData['Dti_Level']=='C'), ['Manual_Cluster']]=12\n"
   ]
  },
  {
   "cell_type": "code",
   "execution_count": 7,
   "metadata": {
    "collapsed": false
   },
   "outputs": [
    {
     "data": {
      "text/plain": [
       "array([  4,   2,   1,   6,   5,   3, 999,   7])"
      ]
     },
     "execution_count": 7,
     "metadata": {},
     "output_type": "execute_result"
    }
   ],
   "source": [
    "loanData['Manual_Cluster'].unique()"
   ]
  },
  {
   "cell_type": "code",
   "execution_count": 9,
   "metadata": {
    "collapsed": true
   },
   "outputs": [],
   "source": [
    "loanData.to_csv('/home/sneha/Documents/ADS /ads_assignment_2/Data/Cleaned/manual_cluster_final.csv')"
   ]
  }
 ],
 "metadata": {
  "kernelspec": {
   "display_name": "Python 3",
   "language": "python",
   "name": "python3"
  },
  "language_info": {
   "codemirror_mode": {
    "name": "ipython",
    "version": 3
   },
   "file_extension": ".py",
   "mimetype": "text/x-python",
   "name": "python",
   "nbconvert_exporter": "python",
   "pygments_lexer": "ipython3",
   "version": "3.5.3"
  }
 },
 "nbformat": 4,
 "nbformat_minor": 2
}
